{
 "cells": [
  {
   "cell_type": "code",
   "execution_count": 3,
   "metadata": {},
   "outputs": [
    {
     "data": {
      "text/html": [
       "<div>\n",
       "<style scoped>\n",
       "    .dataframe tbody tr th:only-of-type {\n",
       "        vertical-align: middle;\n",
       "    }\n",
       "\n",
       "    .dataframe tbody tr th {\n",
       "        vertical-align: top;\n",
       "    }\n",
       "\n",
       "    .dataframe thead th {\n",
       "        text-align: right;\n",
       "    }\n",
       "</style>\n",
       "<table border=\"1\" class=\"dataframe\">\n",
       "  <thead>\n",
       "    <tr style=\"text-align: right;\">\n",
       "      <th></th>\n",
       "      <th>date</th>\n",
       "      <th>store_id</th>\n",
       "      <th>cat_id</th>\n",
       "      <th>sales</th>\n",
       "    </tr>\n",
       "  </thead>\n",
       "  <tbody>\n",
       "    <tr>\n",
       "      <th>0</th>\n",
       "      <td>2011-01-29</td>\n",
       "      <td>TX_1</td>\n",
       "      <td>FOODS</td>\n",
       "      <td>3950.35</td>\n",
       "    </tr>\n",
       "    <tr>\n",
       "      <th>1</th>\n",
       "      <td>2011-01-30</td>\n",
       "      <td>TX_1</td>\n",
       "      <td>FOODS</td>\n",
       "      <td>3844.97</td>\n",
       "    </tr>\n",
       "    <tr>\n",
       "      <th>2</th>\n",
       "      <td>2011-01-31</td>\n",
       "      <td>TX_1</td>\n",
       "      <td>FOODS</td>\n",
       "      <td>2888.03</td>\n",
       "    </tr>\n",
       "    <tr>\n",
       "      <th>3</th>\n",
       "      <td>2011-02-01</td>\n",
       "      <td>TX_1</td>\n",
       "      <td>FOODS</td>\n",
       "      <td>3631.28</td>\n",
       "    </tr>\n",
       "    <tr>\n",
       "      <th>4</th>\n",
       "      <td>2011-02-02</td>\n",
       "      <td>TX_1</td>\n",
       "      <td>FOODS</td>\n",
       "      <td>3072.18</td>\n",
       "    </tr>\n",
       "  </tbody>\n",
       "</table>\n",
       "</div>"
      ],
      "text/plain": [
       "         date store_id cat_id    sales\n",
       "0  2011-01-29     TX_1  FOODS  3950.35\n",
       "1  2011-01-30     TX_1  FOODS  3844.97\n",
       "2  2011-01-31     TX_1  FOODS  2888.03\n",
       "3  2011-02-01     TX_1  FOODS  3631.28\n",
       "4  2011-02-02     TX_1  FOODS  3072.18"
      ]
     },
     "execution_count": 3,
     "metadata": {},
     "output_type": "execute_result"
    }
   ],
   "source": [
    "import pandas as pd\n",
    "\n",
    "df = pd.read_csv('../data/sales.csv')\n",
    "df.head(5)"
   ]
  },
  {
   "cell_type": "code",
   "execution_count": 4,
   "metadata": {},
   "outputs": [
    {
     "name": "stdout",
     "output_type": "stream",
     "text": [
      "Number of unique store_id values: 10\n",
      "Number of unique cat_id values: 3\n"
     ]
    }
   ],
   "source": [
    "unique_store_ids = df['store_id'].nunique()\n",
    "unique_cat_ids = df['cat_id'].nunique()\n",
    "\n",
    "print(f\"Number of unique store_id values: {unique_store_ids}\")\n",
    "print(f\"Number of unique cat_id values: {unique_cat_ids}\")"
   ]
  },
  {
   "cell_type": "code",
   "execution_count": 7,
   "metadata": {},
   "outputs": [
    {
     "name": "stdout",
     "output_type": "stream",
     "text": [
      "Sales data starts from: 2011-01-29 00:00:00\n",
      "Sales data ends on: 2016-05-22 00:00:00\n"
     ]
    }
   ],
   "source": [
    "# Verify the date range of the sales data\n",
    "df['date'] = pd.to_datetime(df['date'])\n",
    "date_range_start = df['date'].min()\n",
    "date_range_end = df['date'].max()\n",
    "\n",
    "print(f\"Sales data starts from: {date_range_start}\")\n",
    "print(f\"Sales data ends on: {date_range_end}\")"
   ]
  },
  {
   "cell_type": "code",
   "execution_count": 8,
   "metadata": {},
   "outputs": [
    {
     "name": "stdout",
     "output_type": "stream",
     "text": [
      "No duplicated dates found within store and category groups.\n"
     ]
    }
   ],
   "source": [
    "# Check for duplicated dates within a store and category group\n",
    "duplicated_dates = df[df.duplicated(subset=['date', 'store_id', 'cat_id'], keep=False)]\n",
    "\n",
    "if not duplicated_dates.empty:\n",
    "    print(\"Duplicated dates found within store and category groups:\")\n",
    "    print(duplicated_dates)\n",
    "else:\n",
    "    print(\"No duplicated dates found within store and category groups.\")\n"
   ]
  },
  {
   "cell_type": "code",
   "execution_count": 9,
   "metadata": {},
   "outputs": [
    {
     "name": "stdout",
     "output_type": "stream",
     "text": [
      "No missing dates in the sales data.\n"
     ]
    }
   ],
   "source": [
    "# Check for missing dates in the sales data\n",
    "all_dates = pd.date_range(start=date_range_start, end=date_range_end)\n",
    "missing_dates = all_dates.difference(df['date'].unique())\n",
    "\n",
    "if not missing_dates.empty:\n",
    "    print(\"Missing dates in the sales data:\")\n",
    "    print(missing_dates)\n",
    "else:\n",
    "    print(\"No missing dates in the sales data.\")\n"
   ]
  },
  {
   "cell_type": "code",
   "execution_count": 11,
   "metadata": {},
   "outputs": [
    {
     "name": "stderr",
     "output_type": "stream",
     "text": [
      "/Users/pedro/miniconda3/envs/live/lib/python3.9/site-packages/scipy/__init__.py:146: UserWarning: A NumPy version >=1.16.5 and <1.23.0 is required for this version of SciPy (detected version 1.24.3\n",
      "  warnings.warn(f\"A NumPy version >={np_minversion} and <{np_maxversion}\"\n"
     ]
    },
    {
     "name": "stdout",
     "output_type": "stream",
     "text": [
      "Outliers detected in the sales data:\n",
      "            date store_id cat_id     sales  detrended_sales\n",
      "1598  2015-06-15     TX_1  FOODS  10036.83      6405.333363\n",
      "6251  2012-04-01     TX_2  FOODS   9969.98      6396.227490\n",
      "6257  2012-04-07     TX_2  FOODS  10122.12      6548.441950\n",
      "6286  2012-05-06     TX_2  FOODS  10007.18      6433.861843\n",
      "6783  2013-09-15     TX_2  FOODS  10379.24      6812.089655\n",
      "...          ...      ...    ...       ...              ...\n",
      "54304 2016-04-09     WI_3  FOODS  10419.92      7442.509310\n",
      "54305 2016-04-10     WI_3  FOODS   9259.20      6281.801720\n",
      "54332 2016-05-07     WI_3  FOODS   9494.98      6517.916792\n",
      "54339 2016-05-14     WI_3  FOODS  10608.35      7631.373663\n",
      "54340 2016-05-15     WI_3  FOODS  11517.60      8540.636073\n",
      "\n",
      "[1623 rows x 5 columns]\n"
     ]
    }
   ],
   "source": [
    "from scipy.signal import detrend\n",
    "\n",
    "# Detrend the sales data\n",
    "df['detrended_sales'] = detrend(df['sales'])\n",
    "\n",
    "# Calculate Q1 (25th percentile) and Q3 (75th percentile)\n",
    "Q1 = df['detrended_sales'].quantile(0.25)\n",
    "Q3 = df['detrended_sales'].quantile(0.75)\n",
    "\n",
    "# Calculate the Interquartile Range (IQR)\n",
    "IQR = Q3 - Q1\n",
    "\n",
    "# Define the lower and upper bounds for outliers\n",
    "lower_bound = Q1 - 1.5 * IQR\n",
    "upper_bound = Q3 + 1.5 * IQR\n",
    "\n",
    "# Identify outliers\n",
    "outliers = df[(df['detrended_sales'] < lower_bound) | (df['detrended_sales'] > upper_bound)]\n",
    "\n",
    "if not outliers.empty:\n",
    "    print(\"Outliers detected in the sales data:\")\n",
    "    print(outliers)\n",
    "else:\n",
    "    print(\"No outliers detected in the sales data.\")\n"
   ]
  },
  {
   "cell_type": "code",
   "execution_count": 12,
   "metadata": {},
   "outputs": [
    {
     "name": "stdout",
     "output_type": "stream",
     "text": [
      "No missing sales values in the sales data.\n"
     ]
    }
   ],
   "source": [
    "# Check for missing sales values in the sales data\n",
    "missing_sales = df['sales'].isna()\n",
    "\n",
    "if missing_sales.any():\n",
    "    print(\"Missing sales values detected in the sales data:\")\n",
    "    print(df[missing_sales])\n",
    "else:\n",
    "    print(\"No missing sales values in the sales data.\")\n"
   ]
  },
  {
   "cell_type": "code",
   "execution_count": 13,
   "metadata": {},
   "outputs": [
    {
     "name": "stdout",
     "output_type": "stream",
     "text": [
      "All missing sales values have been imputed using linear interpolation.\n"
     ]
    }
   ],
   "source": [
    "# Set outliers to null value\n",
    "df.loc[(df['detrended_sales'] < lower_bound) | (df['detrended_sales'] > upper_bound), 'sales'] = None\n",
    "\n",
    "# Impute the missing sales using the linear interpolation method\n",
    "df['sales'] = df['sales'].interpolate(method='linear')\n",
    "\n",
    "# Verify if there are still any missing values after interpolation\n",
    "if df['sales'].isna().any():\n",
    "    print(\"There are still missing sales values after interpolation.\")\n",
    "else:\n",
    "    print(\"All missing sales values have been imputed using linear interpolation.\")\n"
   ]
  },
  {
   "cell_type": "code",
   "execution_count": 14,
   "metadata": {},
   "outputs": [],
   "source": [
    "# Save the preprocessed data to a CSV file\n",
    "df.to_csv('../data/sales_processed.csv', index=False)\n"
   ]
  },
  {
   "cell_type": "code",
   "execution_count": null,
   "metadata": {},
   "outputs": [],
   "source": []
  }
 ],
 "metadata": {
  "kernelspec": {
   "display_name": "live",
   "language": "python",
   "name": "python3"
  },
  "language_info": {
   "codemirror_mode": {
    "name": "ipython",
    "version": 3
   },
   "file_extension": ".py",
   "mimetype": "text/x-python",
   "name": "python",
   "nbconvert_exporter": "python",
   "pygments_lexer": "ipython3",
   "version": "3.9.19"
  }
 },
 "nbformat": 4,
 "nbformat_minor": 2
}
